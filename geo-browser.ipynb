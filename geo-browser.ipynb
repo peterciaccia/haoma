{
 "cells": [
  {
   "cell_type": "code",
   "execution_count": 2,
   "metadata": {
    "collapsed": true,
    "pycharm": {
     "name": "#%%\n"
    }
   },
   "outputs": [
    {
     "name": "stderr",
     "output_type": "stream",
     "text": [
      "IOPub data rate exceeded.\n",
      "The notebook server will temporarily stop sending output\n",
      "to the client in order to avoid crashing it.\n",
      "To change this limit, set the config variable\n",
      "`--NotebookApp.iopub_data_rate_limit`.\n",
      "\n",
      "Current values:\n",
      "NotebookApp.iopub_data_rate_limit=1000000.0 (bytes/sec)\n",
      "NotebookApp.rate_limit_window=3.0 (secs)\n",
      "\n",
      "/Users/peterciaccia/anaconda3/envs/Haoma/lib/python3.8/site-packages/IPython/core/interactiveshell.py:3449: UserWarning: To exit: use 'exit', 'quit', or Ctrl-D.\n",
      "  warn(\"To exit: use 'exit', 'quit', or Ctrl-D.\", stacklevel=1)\n"
     ]
    },
    {
     "ename": "SystemExit",
     "evalue": "",
     "output_type": "error",
     "traceback": [
      "An exception has occurred, use %tb to see the full traceback.\n",
      "\u001B[0;31mSystemExit\u001B[0m\n"
     ]
    }
   ],
   "source": [
    "\"\"\"\n",
    "Created by Peter Ciaccia, 2021-09-20\n",
    "Purpose: Quickly search for GEO datasets\n",
    "\"\"\"\n",
    "import os\n",
    "import sys\n",
    "import argparse\n",
    "import entrezpy.conduit\n",
    "import pandas as pd\n",
    "from dotenv import load_dotenv\n",
    "load_dotenv()\n",
    "\n",
    "\n",
    "\n",
    "# TODO: entrezpy conduit, fetch metadata for GEO datasets.\n",
    "\"\"\"\n",
    "Cases to satisfy:\n",
    "- find all S. cerevisiae datasets\n",
    "- find all S. cerevisiae datasets from last three months\n",
    "- find all S. cerevisiae datasets using one type of Platform\n",
    "- find all S. cerevisiae datasets with keyword X\n",
    "\"\"\"\n",
    "\n",
    "def main():\n",
    "  ap = argparse.ArgumentParser(description='Simple Sequence Metadata Fetcher. \\\n",
    "  Accessions are parsed form STDIN, one accession pre line')\n",
    "  ap.add_argument('--email',\n",
    "                  type=str,\n",
    "                  required=True,\n",
    "                  help='email required by NCBI'),\n",
    "  ap.add_argument('--apikey',\n",
    "                  type=str,\n",
    "                  default=None,\n",
    "                  help='NCBI apikey (optional)')\n",
    "  ap.add_argument('-db',\n",
    "                  type=str,\n",
    "                  required=True,\n",
    "                  help='Database to search ')\n",
    "  args = ap.parse_args()\n",
    "\n",
    "  c = entrezpy.conduit.Conduit(args.email)\n",
    "  fetch_docsum = c.new_pipeline()\n",
    "  sid = fetch_docsum.add_search({'db':args.db, 'term':','.join([str(x.strip()) for x in sys.stdin])})\n",
    "  fetch_docsum.add_summary({'rettype':'docsum', 'retmode':'json'},\n",
    "                            dependency=sid, analyzer=DocsumAnalyzer())"
   ]
  }
 ],
 "metadata": {
  "kernelspec": {
   "display_name": "Python 3 (ipykernel)",
   "language": "python",
   "name": "python3"
  },
  "language_info": {
   "codemirror_mode": {
    "name": "ipython",
    "version": 3
   },
   "file_extension": ".py",
   "mimetype": "text/x-python",
   "name": "python",
   "nbconvert_exporter": "python",
   "pygments_lexer": "ipython3",
   "version": "3.8.11"
  }
 },
 "nbformat": 4,
 "nbformat_minor": 1
}